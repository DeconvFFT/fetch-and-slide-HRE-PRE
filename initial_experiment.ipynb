{
 "cells": [
  {
   "cell_type": "code",
   "execution_count": null,
   "metadata": {},
   "outputs": [],
   "source": [
    "import gym\n",
    "import numpy as np\n",
    "import time \n",
    "import matplotlib.pyplot as plt\n",
    "import mujoco_py \n"
   ]
  },
  {
   "cell_type": "code",
   "execution_count": null,
   "metadata": {},
   "outputs": [],
   "source": [
    "env = gym.make('FetchSlide-v1')"
   ]
  },
  {
   "cell_type": "code",
   "execution_count": 25,
   "metadata": {},
   "outputs": [
    {
     "data": {
      "text/plain": [
       "Box([-inf -inf -inf -inf -inf -inf -inf -inf -inf -inf -inf -inf -inf -inf\n",
       " -inf -inf -inf -inf -inf -inf -inf -inf -inf -inf -inf], [inf inf inf inf inf inf inf inf inf inf inf inf inf inf inf inf inf inf\n",
       " inf inf inf inf inf inf inf], (25,), float32)"
      ]
     },
     "execution_count": 25,
     "metadata": {},
     "output_type": "execute_result"
    }
   ],
   "source": [
    "env.observation_space['observation']"
   ]
  },
  {
   "cell_type": "code",
   "execution_count": 12,
   "metadata": {},
   "outputs": [
    {
     "data": {
      "text/plain": [
       "{'observation': array([ 9.95642352e-01,  7.48909348e-01,  4.12685875e-01,  9.03811678e-01,\n",
       "         8.31416492e-01,  4.14022562e-01, -9.18306739e-02,  8.25071445e-02,\n",
       "         1.33668703e-03, -2.02411376e-06,  1.46270528e-03, -5.32964264e-03,\n",
       "         1.24548620e-04, -1.88202109e-02,  1.18378566e-03, -5.54490107e-05,\n",
       "         7.46682105e-05,  1.86450993e-02, -4.64845574e-04, -4.83036151e-03,\n",
       "        -1.22649962e-03,  5.01592007e-05, -2.30667673e-06,  4.63435019e-07,\n",
       "         5.47234697e-05]),\n",
       " 'achieved_goal': array([0.90381168, 0.83141649, 0.41402256]),\n",
       " 'desired_goal': array([1.60522539, 0.46431731, 0.41401894])}"
      ]
     },
     "execution_count": 12,
     "metadata": {},
     "output_type": "execute_result"
    }
   ],
   "source": [
    "observation = env.reset()\n",
    "observation"
   ]
  },
  {
   "cell_type": "code",
   "execution_count": null,
   "metadata": {},
   "outputs": [],
   "source": []
  }
 ],
 "metadata": {
  "interpreter": {
   "hash": "0e2bb65b44a82350026b87c7bcb210c42eea262e8ef85f5b156cf8ce32dfb9d9"
  },
  "kernelspec": {
   "display_name": "Python 3.9.10 ('rl')",
   "language": "python",
   "name": "python3"
  },
  "language_info": {
   "codemirror_mode": {
    "name": "ipython",
    "version": 3
   },
   "file_extension": ".py",
   "mimetype": "text/x-python",
   "name": "python",
   "nbconvert_exporter": "python",
   "pygments_lexer": "ipython3",
   "version": "3.9.10"
  },
  "orig_nbformat": 4
 },
 "nbformat": 4,
 "nbformat_minor": 2
}
