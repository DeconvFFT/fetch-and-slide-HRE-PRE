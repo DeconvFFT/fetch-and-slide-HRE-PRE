{
 "cells": [
  {
   "cell_type": "code",
   "execution_count": 2,
   "metadata": {},
   "outputs": [],
   "source": [
    "import gym\n",
    "import numpy as np\n",
    "import time \n",
    "import matplotlib.pyplot as plt\n",
    "import mujoco_py \n"
   ]
  },
  {
   "cell_type": "code",
   "execution_count": 3,
   "metadata": {},
   "outputs": [],
   "source": [
    "env = gym.make('FetchSlide-v1')"
   ]
  },
  {
   "cell_type": "code",
   "execution_count": 6,
   "metadata": {},
   "outputs": [
    {
     "ename": "AttributeError",
     "evalue": "module 'gym.wrappers' has no attribute 'FlattenDictWrapper'",
     "output_type": "error",
     "traceback": [
      "\u001b[0;31m---------------------------------------------------------------------------\u001b[0m",
      "\u001b[0;31mAttributeError\u001b[0m                            Traceback (most recent call last)",
      "\u001b[1;32m/Users/saumyamehta/Desktop/RL/fetch-and-slide-HRE-PRE/initial_experiment.ipynb Cell 3'\u001b[0m in \u001b[0;36m<module>\u001b[0;34m\u001b[0m\n\u001b[1;32m      <a href='vscode-notebook-cell:/Users/saumyamehta/Desktop/RL/fetch-and-slide-HRE-PRE/initial_experiment.ipynb#ch0000002?line=0'>1</a>\u001b[0m \u001b[39m# Simply wrap the goal-based environment using FlattenDictWrapper\u001b[39;00m\n\u001b[1;32m      <a href='vscode-notebook-cell:/Users/saumyamehta/Desktop/RL/fetch-and-slide-HRE-PRE/initial_experiment.ipynb#ch0000002?line=1'>2</a>\u001b[0m \u001b[39m# and specify the keys that you would like to use.\u001b[39;00m\n\u001b[0;32m----> <a href='vscode-notebook-cell:/Users/saumyamehta/Desktop/RL/fetch-and-slide-HRE-PRE/initial_experiment.ipynb#ch0000002?line=2'>3</a>\u001b[0m env \u001b[39m=\u001b[39m gym\u001b[39m.\u001b[39;49mwrappers\u001b[39m.\u001b[39;49mFlattenDictWrapper(\n\u001b[1;32m      <a href='vscode-notebook-cell:/Users/saumyamehta/Desktop/RL/fetch-and-slide-HRE-PRE/initial_experiment.ipynb#ch0000002?line=3'>4</a>\u001b[0m     env, dict_keys\u001b[39m=\u001b[39m[\u001b[39m'\u001b[39m\u001b[39mobservation\u001b[39m\u001b[39m'\u001b[39m, \u001b[39m'\u001b[39m\u001b[39mdesired_goal\u001b[39m\u001b[39m'\u001b[39m])\n\u001b[1;32m      <a href='vscode-notebook-cell:/Users/saumyamehta/Desktop/RL/fetch-and-slide-HRE-PRE/initial_experiment.ipynb#ch0000002?line=5'>6</a>\u001b[0m \u001b[39m# From now on, you can use the wrapper env as per usual:\u001b[39;00m\n\u001b[1;32m      <a href='vscode-notebook-cell:/Users/saumyamehta/Desktop/RL/fetch-and-slide-HRE-PRE/initial_experiment.ipynb#ch0000002?line=6'>7</a>\u001b[0m ob \u001b[39m=\u001b[39m env\u001b[39m.\u001b[39mreset()\n",
      "\u001b[0;31mAttributeError\u001b[0m: module 'gym.wrappers' has no attribute 'FlattenDictWrapper'"
     ]
    }
   ],
   "source": [
    "\n",
    "# Simply wrap the goal-based environment using FlattenDictWrapper\n",
    "# and specify the keys that you would like to use.\n",
    "env = gym.wrappers.FlattenDictWrapper(\n",
    "    env, dict_keys=['observation', 'desired_goal'])\n",
    "\n",
    "# From now on, you can use the wrapper env as per usual:\n",
    "ob = env.reset()\n",
    "print(ob) "
   ]
  },
  {
   "cell_type": "code",
   "execution_count": null,
   "metadata": {},
   "outputs": [],
   "source": []
  }
 ],
 "metadata": {
  "interpreter": {
   "hash": "0e2bb65b44a82350026b87c7bcb210c42eea262e8ef85f5b156cf8ce32dfb9d9"
  },
  "kernelspec": {
   "display_name": "Python 3.9.10 ('rl')",
   "language": "python",
   "name": "python3"
  },
  "language_info": {
   "codemirror_mode": {
    "name": "ipython",
    "version": 3
   },
   "file_extension": ".py",
   "mimetype": "text/x-python",
   "name": "python",
   "nbconvert_exporter": "python",
   "pygments_lexer": "ipython3",
   "version": "3.9.10"
  },
  "orig_nbformat": 4
 },
 "nbformat": 4,
 "nbformat_minor": 2
}
